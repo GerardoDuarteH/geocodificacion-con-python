{
  "cells": [
    {
      "cell_type": "markdown",
      "metadata": {
        "id": "view-in-github",
        "colab_type": "text"
      },
      "source": [
        "<a href=\"https://colab.research.google.com/github/ambarja/geocodificacion-con-python/blob/main/geocoding.ipynb\" target=\"_parent\"><img src=\"https://colab.research.google.com/assets/colab-badge.svg\" alt=\"Open In Colab\"/></a>"
      ]
    },
    {
      "cell_type": "markdown",
      "metadata": {
        "id": "JlV6huXsEQ0E"
      },
      "source": [
        "<img src='https://raw.githubusercontent.com/geografope/geocodificacion-con-python/main/img/banner.png'>"
      ]
    },
    {
      "cell_type": "markdown",
      "source": [
        "Este tutorial fue elaboradro por **Geografo.PE**\n",
        "\n",
        "Redes sociales:\n",
        "- Youtube: www.youtube.com/@ambarja\n",
        "- Tiktok: https://www.tiktok.com/@geografo.pe\n",
        "- Linkdein: https://www.linkedin.com/in/antonybarja/\n",
        "- GitHub: https://github.com/geografope\n",
        "\n",
        "Para más información, puedes visitar mi pagina personal:*https://geografo.pe*"
      ],
      "metadata": {
        "id": "G_8NqYyOKOPl"
      }
    },
    {
      "cell_type": "markdown",
      "source": [
        "### **1.Instalación de librerias a utilizar**\n"
      ],
      "metadata": {
        "id": "wnmMnL1QXqRa"
      }
    },
    {
      "cell_type": "code",
      "execution_count": null,
      "metadata": {
        "id": "8Y3pAmhjEKfc"
      },
      "outputs": [],
      "source": [
        "!pip install geopy\n",
        "!pip install pandas\n",
        "!pip install geopandas\n",
        "!pip install mapclassify"
      ]
    },
    {
      "cell_type": "markdown",
      "source": [
        "### **2.Llamado o activación de librerias**"
      ],
      "metadata": {
        "id": "7l44pRVyYk7X"
      }
    },
    {
      "cell_type": "code",
      "execution_count": 29,
      "metadata": {
        "id": "YCm5aUYJfWjt"
      },
      "outputs": [],
      "source": [
        "from geopy.geocoders import Nominatim, ArcGIS, MapBox\n",
        "import pandas as pd\n",
        "import geopandas as gpd\n",
        "from functools import partial"
      ]
    },
    {
      "cell_type": "markdown",
      "source": [
        "### **3.Lectura de los datos crudos en formato excel**"
      ],
      "metadata": {
        "id": "y4cj52EVY8lo"
      }
    },
    {
      "cell_type": "code",
      "execution_count": 72,
      "metadata": {
        "id": "RGrUk6O_eEDY"
      },
      "outputs": [],
      "source": [
        "url = 'https://github.com/geografope/geocodificacion-con-python/raw/main/rawdata/rawdata.xlsx'\n",
        "rawdata = pd.read_excel(url)"
      ]
    },
    {
      "cell_type": "code",
      "source": [
        "rawdata.shape"
      ],
      "metadata": {
        "id": "xJRT32c8ets-",
        "outputId": "e84d82b1-00d2-493b-da67-332c0a95775b",
        "colab": {
          "base_uri": "https://localhost:8080/"
        }
      },
      "execution_count": 73,
      "outputs": [
        {
          "output_type": "execute_result",
          "data": {
            "text/plain": [
              "(19, 4)"
            ]
          },
          "metadata": {},
          "execution_count": 73
        }
      ]
    },
    {
      "cell_type": "markdown",
      "source": [
        "### **4.Función para estandarizar extructura de texto para geocodificar**"
      ],
      "metadata": {
        "id": "UTDT9kD89PSM"
      }
    },
    {
      "cell_type": "code",
      "source": [
        "# Forma estandar de la estructura del texto para geodificar con Nominatim:\n",
        "# direccion,distrito,provincia,departamento,pais\n",
        "# Ejemplo: \"Calle Los Angeles 123, Carabayllo, Lima, Lima, Perú\"\n",
        "def concatenar_campos(row):\n",
        "    return f\"{row['direccion']}, {row['distrito']}, {row['provincia']}, {row['departamento']}, Perú\""
      ],
      "metadata": {
        "id": "bm12Yjs6YFUP"
      },
      "execution_count": 74,
      "outputs": []
    },
    {
      "cell_type": "code",
      "execution_count": 75,
      "metadata": {
        "id": "UUabd8NViDWh",
        "outputId": "63a38207-2ba9-4cc1-a3c9-5f2da7c3798d",
        "colab": {
          "base_uri": "https://localhost:8080/",
          "height": 206
        }
      },
      "outputs": [
        {
          "output_type": "execute_result",
          "data": {
            "text/plain": [
              "  departamento provincia     distrito  \\\n",
              "0         Lima      Lima  Santa Anita   \n",
              "1         Lima      Lima  Santa Anita   \n",
              "2         Lima      Lima  Santa Anita   \n",
              "3         Lima      Lima   Lurigancho   \n",
              "4         Lima      Lima   Lurigancho   \n",
              "\n",
              "                                     direccion  \\\n",
              "0     Carretera Central 167, Santa Anita 15008   \n",
              "1    Jiron los Eucaliptos 996, La Molina 15023   \n",
              "2  Avenida Metropolitana Mz M Lot 4, Ate 15026   \n",
              "3                       Los Robles, Lima 15457   \n",
              "4      Avenida las Torres 276, Lima, Ate 15498   \n",
              "\n",
              "                                               nogeo  \n",
              "0  Carretera Central 167, Santa Anita 15008, Sant...  \n",
              "1  Jiron los Eucaliptos 996, La Molina 15023, San...  \n",
              "2  Avenida Metropolitana Mz M Lot 4, Ate 15026, S...  \n",
              "3  Los Robles, Lima 15457, Lurigancho, Lima, Lima...  \n",
              "4  Avenida las Torres 276, Lima, Ate 15498, Lurig...  "
            ],
            "text/html": [
              "\n",
              "  <div id=\"df-c4198b19-ce22-4afb-a91e-b81a824445db\" class=\"colab-df-container\">\n",
              "    <div>\n",
              "<style scoped>\n",
              "    .dataframe tbody tr th:only-of-type {\n",
              "        vertical-align: middle;\n",
              "    }\n",
              "\n",
              "    .dataframe tbody tr th {\n",
              "        vertical-align: top;\n",
              "    }\n",
              "\n",
              "    .dataframe thead th {\n",
              "        text-align: right;\n",
              "    }\n",
              "</style>\n",
              "<table border=\"1\" class=\"dataframe\">\n",
              "  <thead>\n",
              "    <tr style=\"text-align: right;\">\n",
              "      <th></th>\n",
              "      <th>departamento</th>\n",
              "      <th>provincia</th>\n",
              "      <th>distrito</th>\n",
              "      <th>direccion</th>\n",
              "      <th>nogeo</th>\n",
              "    </tr>\n",
              "  </thead>\n",
              "  <tbody>\n",
              "    <tr>\n",
              "      <th>0</th>\n",
              "      <td>Lima</td>\n",
              "      <td>Lima</td>\n",
              "      <td>Santa Anita</td>\n",
              "      <td>Carretera Central 167, Santa Anita 15008</td>\n",
              "      <td>Carretera Central 167, Santa Anita 15008, Sant...</td>\n",
              "    </tr>\n",
              "    <tr>\n",
              "      <th>1</th>\n",
              "      <td>Lima</td>\n",
              "      <td>Lima</td>\n",
              "      <td>Santa Anita</td>\n",
              "      <td>Jiron los Eucaliptos 996, La Molina 15023</td>\n",
              "      <td>Jiron los Eucaliptos 996, La Molina 15023, San...</td>\n",
              "    </tr>\n",
              "    <tr>\n",
              "      <th>2</th>\n",
              "      <td>Lima</td>\n",
              "      <td>Lima</td>\n",
              "      <td>Santa Anita</td>\n",
              "      <td>Avenida Metropolitana Mz M Lot 4, Ate 15026</td>\n",
              "      <td>Avenida Metropolitana Mz M Lot 4, Ate 15026, S...</td>\n",
              "    </tr>\n",
              "    <tr>\n",
              "      <th>3</th>\n",
              "      <td>Lima</td>\n",
              "      <td>Lima</td>\n",
              "      <td>Lurigancho</td>\n",
              "      <td>Los Robles, Lima 15457</td>\n",
              "      <td>Los Robles, Lima 15457, Lurigancho, Lima, Lima...</td>\n",
              "    </tr>\n",
              "    <tr>\n",
              "      <th>4</th>\n",
              "      <td>Lima</td>\n",
              "      <td>Lima</td>\n",
              "      <td>Lurigancho</td>\n",
              "      <td>Avenida las Torres 276, Lima, Ate 15498</td>\n",
              "      <td>Avenida las Torres 276, Lima, Ate 15498, Lurig...</td>\n",
              "    </tr>\n",
              "  </tbody>\n",
              "</table>\n",
              "</div>\n",
              "    <div class=\"colab-df-buttons\">\n",
              "\n",
              "  <div class=\"colab-df-container\">\n",
              "    <button class=\"colab-df-convert\" onclick=\"convertToInteractive('df-c4198b19-ce22-4afb-a91e-b81a824445db')\"\n",
              "            title=\"Convert this dataframe to an interactive table.\"\n",
              "            style=\"display:none;\">\n",
              "\n",
              "  <svg xmlns=\"http://www.w3.org/2000/svg\" height=\"24px\" viewBox=\"0 -960 960 960\">\n",
              "    <path d=\"M120-120v-720h720v720H120Zm60-500h600v-160H180v160Zm220 220h160v-160H400v160Zm0 220h160v-160H400v160ZM180-400h160v-160H180v160Zm440 0h160v-160H620v160ZM180-180h160v-160H180v160Zm440 0h160v-160H620v160Z\"/>\n",
              "  </svg>\n",
              "    </button>\n",
              "\n",
              "  <style>\n",
              "    .colab-df-container {\n",
              "      display:flex;\n",
              "      gap: 12px;\n",
              "    }\n",
              "\n",
              "    .colab-df-convert {\n",
              "      background-color: #E8F0FE;\n",
              "      border: none;\n",
              "      border-radius: 50%;\n",
              "      cursor: pointer;\n",
              "      display: none;\n",
              "      fill: #1967D2;\n",
              "      height: 32px;\n",
              "      padding: 0 0 0 0;\n",
              "      width: 32px;\n",
              "    }\n",
              "\n",
              "    .colab-df-convert:hover {\n",
              "      background-color: #E2EBFA;\n",
              "      box-shadow: 0px 1px 2px rgba(60, 64, 67, 0.3), 0px 1px 3px 1px rgba(60, 64, 67, 0.15);\n",
              "      fill: #174EA6;\n",
              "    }\n",
              "\n",
              "    .colab-df-buttons div {\n",
              "      margin-bottom: 4px;\n",
              "    }\n",
              "\n",
              "    [theme=dark] .colab-df-convert {\n",
              "      background-color: #3B4455;\n",
              "      fill: #D2E3FC;\n",
              "    }\n",
              "\n",
              "    [theme=dark] .colab-df-convert:hover {\n",
              "      background-color: #434B5C;\n",
              "      box-shadow: 0px 1px 3px 1px rgba(0, 0, 0, 0.15);\n",
              "      filter: drop-shadow(0px 1px 2px rgba(0, 0, 0, 0.3));\n",
              "      fill: #FFFFFF;\n",
              "    }\n",
              "  </style>\n",
              "\n",
              "    <script>\n",
              "      const buttonEl =\n",
              "        document.querySelector('#df-c4198b19-ce22-4afb-a91e-b81a824445db button.colab-df-convert');\n",
              "      buttonEl.style.display =\n",
              "        google.colab.kernel.accessAllowed ? 'block' : 'none';\n",
              "\n",
              "      async function convertToInteractive(key) {\n",
              "        const element = document.querySelector('#df-c4198b19-ce22-4afb-a91e-b81a824445db');\n",
              "        const dataTable =\n",
              "          await google.colab.kernel.invokeFunction('convertToInteractive',\n",
              "                                                    [key], {});\n",
              "        if (!dataTable) return;\n",
              "\n",
              "        const docLinkHtml = 'Like what you see? Visit the ' +\n",
              "          '<a target=\"_blank\" href=https://colab.research.google.com/notebooks/data_table.ipynb>data table notebook</a>'\n",
              "          + ' to learn more about interactive tables.';\n",
              "        element.innerHTML = '';\n",
              "        dataTable['output_type'] = 'display_data';\n",
              "        await google.colab.output.renderOutput(dataTable, element);\n",
              "        const docLink = document.createElement('div');\n",
              "        docLink.innerHTML = docLinkHtml;\n",
              "        element.appendChild(docLink);\n",
              "      }\n",
              "    </script>\n",
              "  </div>\n",
              "\n",
              "\n",
              "<div id=\"df-960a9e86-00bc-4846-bae4-f91780324123\">\n",
              "  <button class=\"colab-df-quickchart\" onclick=\"quickchart('df-960a9e86-00bc-4846-bae4-f91780324123')\"\n",
              "            title=\"Suggest charts\"\n",
              "            style=\"display:none;\">\n",
              "\n",
              "<svg xmlns=\"http://www.w3.org/2000/svg\" height=\"24px\"viewBox=\"0 0 24 24\"\n",
              "     width=\"24px\">\n",
              "    <g>\n",
              "        <path d=\"M19 3H5c-1.1 0-2 .9-2 2v14c0 1.1.9 2 2 2h14c1.1 0 2-.9 2-2V5c0-1.1-.9-2-2-2zM9 17H7v-7h2v7zm4 0h-2V7h2v10zm4 0h-2v-4h2v4z\"/>\n",
              "    </g>\n",
              "</svg>\n",
              "  </button>\n",
              "\n",
              "<style>\n",
              "  .colab-df-quickchart {\n",
              "      --bg-color: #E8F0FE;\n",
              "      --fill-color: #1967D2;\n",
              "      --hover-bg-color: #E2EBFA;\n",
              "      --hover-fill-color: #174EA6;\n",
              "      --disabled-fill-color: #AAA;\n",
              "      --disabled-bg-color: #DDD;\n",
              "  }\n",
              "\n",
              "  [theme=dark] .colab-df-quickchart {\n",
              "      --bg-color: #3B4455;\n",
              "      --fill-color: #D2E3FC;\n",
              "      --hover-bg-color: #434B5C;\n",
              "      --hover-fill-color: #FFFFFF;\n",
              "      --disabled-bg-color: #3B4455;\n",
              "      --disabled-fill-color: #666;\n",
              "  }\n",
              "\n",
              "  .colab-df-quickchart {\n",
              "    background-color: var(--bg-color);\n",
              "    border: none;\n",
              "    border-radius: 50%;\n",
              "    cursor: pointer;\n",
              "    display: none;\n",
              "    fill: var(--fill-color);\n",
              "    height: 32px;\n",
              "    padding: 0;\n",
              "    width: 32px;\n",
              "  }\n",
              "\n",
              "  .colab-df-quickchart:hover {\n",
              "    background-color: var(--hover-bg-color);\n",
              "    box-shadow: 0 1px 2px rgba(60, 64, 67, 0.3), 0 1px 3px 1px rgba(60, 64, 67, 0.15);\n",
              "    fill: var(--button-hover-fill-color);\n",
              "  }\n",
              "\n",
              "  .colab-df-quickchart-complete:disabled,\n",
              "  .colab-df-quickchart-complete:disabled:hover {\n",
              "    background-color: var(--disabled-bg-color);\n",
              "    fill: var(--disabled-fill-color);\n",
              "    box-shadow: none;\n",
              "  }\n",
              "\n",
              "  .colab-df-spinner {\n",
              "    border: 2px solid var(--fill-color);\n",
              "    border-color: transparent;\n",
              "    border-bottom-color: var(--fill-color);\n",
              "    animation:\n",
              "      spin 1s steps(1) infinite;\n",
              "  }\n",
              "\n",
              "  @keyframes spin {\n",
              "    0% {\n",
              "      border-color: transparent;\n",
              "      border-bottom-color: var(--fill-color);\n",
              "      border-left-color: var(--fill-color);\n",
              "    }\n",
              "    20% {\n",
              "      border-color: transparent;\n",
              "      border-left-color: var(--fill-color);\n",
              "      border-top-color: var(--fill-color);\n",
              "    }\n",
              "    30% {\n",
              "      border-color: transparent;\n",
              "      border-left-color: var(--fill-color);\n",
              "      border-top-color: var(--fill-color);\n",
              "      border-right-color: var(--fill-color);\n",
              "    }\n",
              "    40% {\n",
              "      border-color: transparent;\n",
              "      border-right-color: var(--fill-color);\n",
              "      border-top-color: var(--fill-color);\n",
              "    }\n",
              "    60% {\n",
              "      border-color: transparent;\n",
              "      border-right-color: var(--fill-color);\n",
              "    }\n",
              "    80% {\n",
              "      border-color: transparent;\n",
              "      border-right-color: var(--fill-color);\n",
              "      border-bottom-color: var(--fill-color);\n",
              "    }\n",
              "    90% {\n",
              "      border-color: transparent;\n",
              "      border-bottom-color: var(--fill-color);\n",
              "    }\n",
              "  }\n",
              "</style>\n",
              "\n",
              "  <script>\n",
              "    async function quickchart(key) {\n",
              "      const quickchartButtonEl =\n",
              "        document.querySelector('#' + key + ' button');\n",
              "      quickchartButtonEl.disabled = true;  // To prevent multiple clicks.\n",
              "      quickchartButtonEl.classList.add('colab-df-spinner');\n",
              "      try {\n",
              "        const charts = await google.colab.kernel.invokeFunction(\n",
              "            'suggestCharts', [key], {});\n",
              "      } catch (error) {\n",
              "        console.error('Error during call to suggestCharts:', error);\n",
              "      }\n",
              "      quickchartButtonEl.classList.remove('colab-df-spinner');\n",
              "      quickchartButtonEl.classList.add('colab-df-quickchart-complete');\n",
              "    }\n",
              "    (() => {\n",
              "      let quickchartButtonEl =\n",
              "        document.querySelector('#df-960a9e86-00bc-4846-bae4-f91780324123 button');\n",
              "      quickchartButtonEl.style.display =\n",
              "        google.colab.kernel.accessAllowed ? 'block' : 'none';\n",
              "    })();\n",
              "  </script>\n",
              "</div>\n",
              "\n",
              "    </div>\n",
              "  </div>\n"
            ],
            "application/vnd.google.colaboratory.intrinsic+json": {
              "type": "dataframe",
              "variable_name": "rawdata",
              "summary": "{\n  \"name\": \"rawdata\",\n  \"rows\": 19,\n  \"fields\": [\n    {\n      \"column\": \"departamento\",\n      \"properties\": {\n        \"dtype\": \"category\",\n        \"num_unique_values\": 1,\n        \"samples\": [\n          \"Lima\"\n        ],\n        \"semantic_type\": \"\",\n        \"description\": \"\"\n      }\n    },\n    {\n      \"column\": \"provincia\",\n      \"properties\": {\n        \"dtype\": \"category\",\n        \"num_unique_values\": 1,\n        \"samples\": [\n          \"Lima\"\n        ],\n        \"semantic_type\": \"\",\n        \"description\": \"\"\n      }\n    },\n    {\n      \"column\": \"distrito\",\n      \"properties\": {\n        \"dtype\": \"category\",\n        \"num_unique_values\": 5,\n        \"samples\": [\n          \"Lurigancho\"\n        ],\n        \"semantic_type\": \"\",\n        \"description\": \"\"\n      }\n    },\n    {\n      \"column\": \"direccion\",\n      \"properties\": {\n        \"dtype\": \"string\",\n        \"num_unique_values\": 19,\n        \"samples\": [\n          \"Carretera Central 167, Santa Anita 15008\"\n        ],\n        \"semantic_type\": \"\",\n        \"description\": \"\"\n      }\n    },\n    {\n      \"column\": \"nogeo\",\n      \"properties\": {\n        \"dtype\": \"string\",\n        \"num_unique_values\": 19,\n        \"samples\": [\n          \"Carretera Central 167, Santa Anita 15008, Santa Anita, Lima, Lima, Per\\u00fa\"\n        ],\n        \"semantic_type\": \"\",\n        \"description\": \"\"\n      }\n    }\n  ]\n}"
            }
          },
          "metadata": {},
          "execution_count": 75
        }
      ],
      "source": [
        "rawdata['nogeo'] = rawdata.apply(concatenar_campos, axis= 1)\n",
        "rawdata.head()"
      ]
    },
    {
      "cell_type": "code",
      "source": [
        "rawdata_for_osm = rawdata.copy()\n",
        "rawdata_for_mapbox = rawdata.copy()\n",
        "rawdata_for_arcgis = rawdata.copy()"
      ],
      "metadata": {
        "id": "QdWRYjT8LNFm"
      },
      "execution_count": 77,
      "outputs": []
    },
    {
      "cell_type": "markdown",
      "source": [
        "### **5.Gecodificación directa con la API de OSM**\n",
        "- Nominatim: Es una herramienta open source que sirve para realizar proceso de geocodificación a través de OpenSteetMap.\n",
        "Referencia: *https://github.com/osm-search/Nominatim*"
      ],
      "metadata": {
        "id": "28uNbQrk9dOY"
      }
    },
    {
      "cell_type": "code",
      "execution_count": 78,
      "metadata": {
        "id": "cQpZU3pPhXWw"
      },
      "outputs": [],
      "source": [
        "# Gecodificación directa\n",
        "geolocator = Nominatim(user_agent=\"geografo_pe\",timeout = 5)\n",
        "geocode = partial(geolocator.geocode, language=\"es\")\n",
        "def tidygeocode(row):\n",
        "    location = geolocator.geocode(row['nogeo'])\n",
        "    if location:\n",
        "        return pd.Series({'latitude': location.latitude, 'longitude': location.longitude})\n",
        "    else:\n",
        "        return pd.Series({'latitude': None, 'longitude': None})"
      ]
    },
    {
      "cell_type": "code",
      "source": [
        "rawdata_for_osm[['latitude', 'longitude']] = rawdata_for_osm.apply(tidygeocode, axis=1)"
      ],
      "metadata": {
        "id": "k2wcaOnUZzW5"
      },
      "execution_count": 79,
      "outputs": []
    },
    {
      "cell_type": "code",
      "source": [
        "rawdata_for_osm"
      ],
      "metadata": {
        "id": "A5Jn0BMPgGLe"
      },
      "execution_count": null,
      "outputs": []
    },
    {
      "cell_type": "markdown",
      "source": [
        "### **6.Visualización de datos espaciales**"
      ],
      "metadata": {
        "id": "lgomjYoj9lqW"
      }
    },
    {
      "cell_type": "code",
      "execution_count": 81,
      "metadata": {
        "id": "y2NcB8nNhbvh"
      },
      "outputs": [],
      "source": [
        "# Eliminar datos vacios\n",
        "geo_rawdata = rawdata_for_osm.dropna()\n",
        "# Dataframe a gepandas\n",
        "geo_rawdata = gpd.GeoDataFrame(data = geo_rawdata, geometry=gpd.points_from_xy(geo_rawdata.longitude, geo_rawdata.latitude),crs = 4326)"
      ]
    },
    {
      "cell_type": "code",
      "source": [
        "# Visualización interactiva\n",
        "geo_rawdata.explore(tiles = \"Esri.WorldImagery\",marker_kwds={'radius': 10} )"
      ],
      "metadata": {
        "id": "cL5iBx2qjgxY"
      },
      "execution_count": null,
      "outputs": []
    },
    {
      "cell_type": "markdown",
      "source": [
        "### **7.Geocodificación inversa**"
      ],
      "metadata": {
        "id": "2ikE-iWF96kv"
      }
    },
    {
      "cell_type": "code",
      "execution_count": 97,
      "metadata": {
        "id": "b4c2Sv8RhfDO"
      },
      "outputs": [],
      "source": [
        "# Geocodificación indirecta\n",
        "def tidygeocode_inv(row):\n",
        "  adress = geolocator.reverse([row['latitude'],row['longitude']])\n",
        "  return(str(adress))"
      ]
    },
    {
      "cell_type": "code",
      "source": [
        "geocode_inv = geo_rawdata.copy()"
      ],
      "metadata": {
        "id": "tZ9CIuE_hRSk"
      },
      "execution_count": 98,
      "outputs": []
    },
    {
      "cell_type": "code",
      "source": [
        "geocode_inv['direccion_geo_inv'] = geocode_inv.apply(tidygeocode_inv, axis = 1)"
      ],
      "metadata": {
        "id": "L_aMTzqNWKXr"
      },
      "execution_count": 99,
      "outputs": []
    },
    {
      "cell_type": "code",
      "source": [
        "geocode_inv = geocode_inv.drop(columns=['geometry'])\n",
        "geocode_inv = gpd.GeoDataFrame(data = geocode_inv, geometry=gpd.points_from_xy(geo_rawdata.longitude, geo_rawdata.latitude),crs = 4326)"
      ],
      "metadata": {
        "id": "B9-pxGawWrwH"
      },
      "execution_count": 100,
      "outputs": []
    },
    {
      "cell_type": "code",
      "source": [
        "geocode_inv"
      ],
      "metadata": {
        "id": "SVai9lVVii97"
      },
      "execution_count": null,
      "outputs": []
    },
    {
      "cell_type": "markdown",
      "source": [
        "### **8.Exportar datos espaciales**"
      ],
      "metadata": {
        "id": "xwJZ-2wk9_U1"
      }
    },
    {
      "cell_type": "code",
      "execution_count": 102,
      "metadata": {
        "id": "jRPqMFYohiLH"
      },
      "outputs": [],
      "source": [
        "# Exportar datos en formato gpkg\n",
        "geo_rawdata.to_file('geocoding_directo.gpkg')\n",
        "geocode_inv.to_file('geocoding_inverso.gpkg')"
      ]
    },
    {
      "cell_type": "code",
      "source": [
        "geo_rawdata"
      ],
      "metadata": {
        "id": "_glHy_vCixm2"
      },
      "execution_count": null,
      "outputs": []
    },
    {
      "cell_type": "markdown",
      "source": [
        "### **9.Gecodificación usando la API de MapBox**\n",
        "Para poder optener nuestra API de MapBox tenemos que registrarnos en el siguiente enlace:\n",
        " - Registro: *https://account.mapbox.com/auth/signup/*\n",
        " - Activar API: *https://account.mapbox.com/access-tokens/create*\n",
        "\n",
        "#### *Geocodificación gratis: 100 000 al mes*"
      ],
      "metadata": {
        "id": "3ggsxWNc-MDq"
      }
    },
    {
      "cell_type": "code",
      "source": [
        "api_mapbox = 'PON_AQUI_TU_API_KEY'\n",
        "geolocator = MapBox(api_key = api_mapbox)\n",
        "def tidygeocode(row):\n",
        "    location = geolocator.geocode(row['nogeo'])\n",
        "    if location:\n",
        "        return pd.Series({'latitude': location.latitude, 'longitude': location.longitude})\n",
        "    else:\n",
        "        return pd.Series({'latitude': None, 'longitude': None})"
      ],
      "metadata": {
        "id": "UX43Gv_i-gYY"
      },
      "execution_count": null,
      "outputs": []
    },
    {
      "cell_type": "code",
      "source": [
        "rawdata_for_mapbox[['latitude', 'longitude']] = rawdata_for_mapbox.apply(tidygeocode, axis=1)"
      ],
      "metadata": {
        "id": "Ej-p07RwCW5m"
      },
      "execution_count": null,
      "outputs": []
    },
    {
      "cell_type": "markdown",
      "source": [
        "### **10.Gecodificación usando la API de ArcGIS**\n",
        "Para poder optener nuestra API de ArcGIS tenemos que registrarnos en el siguiente enlace:\n",
        " * Registro: *https://developers.arcgis.com/sign-up/*\n",
        " * Activar API: *https://developers.arcgis.com/dashboard/#*\n",
        "\n",
        "#### *Geocodificación gratis: 20 000 gratis*"
      ],
      "metadata": {
        "id": "PVudz9Xi-Vq9"
      }
    },
    {
      "cell_type": "code",
      "source": [
        "api_arcgis = 'PON_AQUI_TU_API_KEY'\n",
        "geolocator = ArcGIS(auth_domain = api_arcgis)\n",
        "def tidygeocode(row):\n",
        "    location = geolocator.geocode(row['nogeo'])\n",
        "    if location:\n",
        "        return pd.Series({'latitude': location.latitude, 'longitude': location.longitude})\n",
        "    else:\n",
        "        return pd.Series({'latitude': None, 'longitude': None})"
      ],
      "metadata": {
        "id": "e5sIsifs-gxx"
      },
      "execution_count": null,
      "outputs": []
    },
    {
      "cell_type": "code",
      "source": [
        "rawdata_for_arcgis[['latitude', 'longitude']] = rawdata_for_arcgis.apply(tidygeocode, axis=1)"
      ],
      "metadata": {
        "id": "SoGySMI3DADB"
      },
      "execution_count": null,
      "outputs": []
    }
  ],
  "metadata": {
    "colab": {
      "provenance": [],
      "include_colab_link": true
    },
    "kernelspec": {
      "display_name": "Python 3",
      "name": "python3"
    },
    "language_info": {
      "name": "python"
    }
  },
  "nbformat": 4,
  "nbformat_minor": 0
}